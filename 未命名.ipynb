{
 "cells": [
  {
   "cell_type": "code",
   "execution_count": 16,
   "id": "35f31be0",
   "metadata": {},
   "outputs": [
    {
     "name": "stdout",
     "output_type": "stream",
     "text": [
      "[1, 2]\n"
     ]
    }
   ],
   "source": [
    "nums = [2,7,11,15]\n",
    "target = 9\n",
    "t = 0\n",
    "for i in nums:\n",
    "    num = nums\n",
    "    del num[t]\n",
    "    t += 1\n",
    "    tt = 1\n",
    "    for j in nums:\n",
    "        tt += 1\n",
    "        df_num = target - i\n",
    "        if j == df_num: \n",
    "            print[t,tt]"
   ]
  },
  {
   "cell_type": "code",
   "execution_count": null,
   "id": "865972ba",
   "metadata": {},
   "outputs": [],
   "source": []
  }
 ],
 "metadata": {
  "kernelspec": {
   "display_name": "Py27",
   "language": "python",
   "name": "py27"
  },
  "language_info": {
   "codemirror_mode": {
    "name": "ipython",
    "version": 2
   },
   "file_extension": ".py",
   "mimetype": "text/x-python",
   "name": "python",
   "nbconvert_exporter": "python",
   "pygments_lexer": "ipython2",
   "version": "2.7.18"
  },
  "toc": {
   "base_numbering": 1,
   "nav_menu": {},
   "number_sections": true,
   "sideBar": true,
   "skip_h1_title": false,
   "title_cell": "Table of Contents",
   "title_sidebar": "Contents",
   "toc_cell": false,
   "toc_position": {},
   "toc_section_display": true,
   "toc_window_display": false
  }
 },
 "nbformat": 4,
 "nbformat_minor": 5
}
