{
 "cells": [
  {
   "cell_type": "code",
   "execution_count": 1,
   "id": "b9b9fef6",
   "metadata": {},
   "outputs": [],
   "source": [
    "import math"
   ]
  },
  {
   "cell_type": "code",
   "execution_count": 2,
   "id": "1842769a",
   "metadata": {
    "code_folding": []
   },
   "outputs": [],
   "source": [
    "def quadratic(a, b, c):\n",
    "    x1 = (-b + math.sqrt(b * b - 4 * a * c)) / (2 * a)\n",
    "    x2 = (-b - math.sqrt(b * b - 4 * a * c)) / (2 * a)\n",
    "    print('x1=', x1)\n",
    "    print('x2=', x2)"
   ]
  },
  {
   "cell_type": "code",
   "execution_count": 3,
   "id": "d8c30085",
   "metadata": {},
   "outputs": [
    {
     "name": "stdout",
     "output_type": "stream",
     "text": [
      "('x1=', -0.5)\n",
      "('x2=', -1.0)\n",
      "('quadratic(2, 3, 1) =', None)\n",
      "('x1=', 1.0)\n",
      "('x2=', -4.0)\n",
      "('quadratic(1, 3, -4) =', None)\n",
      "('x1=', -0.5)\n",
      "('x2=', -1.0)\n",
      "测试失败\n"
     ]
    }
   ],
   "source": [
    "print('quadratic(2, 3, 1) =', quadratic(2, 3, 1))\n",
    "print('quadratic(1, 3, -4) =', quadratic(1, 3, -4))\n",
    "if quadratic(2, 3, 1) != (-0.5, -1.0):\n",
    "    print('测试失败')\n",
    "elif quadratic(1, 3, -4) != (1.0, -4.0):\n",
    "    print('测试失败')\n",
    "else:\n",
    "    print('测试成功')\n"
   ]
  },
  {
   "cell_type": "code",
   "execution_count": null,
   "id": "cbd86e9a",
   "metadata": {},
   "outputs": [],
   "source": []
  }
 ],
 "metadata": {
  "kernelspec": {
   "display_name": "Py27",
   "language": "python",
   "name": "py27"
  },
  "language_info": {
   "codemirror_mode": {
    "name": "ipython",
    "version": 2
   },
   "file_extension": ".py",
   "mimetype": "text/x-python",
   "name": "python",
   "nbconvert_exporter": "python",
   "pygments_lexer": "ipython2",
   "version": "2.7.18"
  },
  "toc": {
   "base_numbering": 1,
   "nav_menu": {},
   "number_sections": true,
   "sideBar": true,
   "skip_h1_title": false,
   "title_cell": "Table of Contents",
   "title_sidebar": "Contents",
   "toc_cell": false,
   "toc_position": {},
   "toc_section_display": true,
   "toc_window_display": false
  }
 },
 "nbformat": 4,
 "nbformat_minor": 5
}
