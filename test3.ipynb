{
 "cells": [
  {
   "cell_type": "code",
   "execution_count": 1,
   "id": "88363f9a",
   "metadata": {},
   "outputs": [],
   "source": [
    "import os"
   ]
  },
  {
   "cell_type": "code",
   "execution_count": 5,
   "id": "b6c4577c",
   "metadata": {},
   "outputs": [],
   "source": [
    "def get_file_info(target_dir):\n",
    "    \"\"\"\n",
    "    获取目标路径的所有文件信息\n",
    "    Args:\n",
    "        target_dir: <str> 目标路径\n",
    "    Returns:\n",
    "\n",
    "    \"\"\"\n",
    "    result = {}\n",
    "    for _root, _dir, _files in os.walk(target_dir):\n",
    "        for each_file in _files:\n",
    "            root = _root.replace(\"\\\\\", \"/\")\n",
    "            file_info = os.path.splitext(each_file)\n",
    "            root_re = root.lstrip(\"\\\\\",\"/\")\n",
    "            value = result.get(root_re)\n",
    "            if not value:\n",
    "                result.update({root_re: [file_info]})\n",
    "            else:\n",
    "                value.append(file_info)\n",
    "    print(result)\n",
    "    return result"
   ]
  },
  {
   "cell_type": "code",
   "execution_count": null,
   "id": "6ddd8a0b",
   "metadata": {},
   "outputs": [],
   "source": [
    "_target_dir = input(\"please input the path:\")\n",
    "get_file_info(_target_dir)"
   ]
  },
  {
   "cell_type": "code",
   "execution_count": null,
   "id": "97cbba13",
   "metadata": {},
   "outputs": [],
   "source": []
  }
 ],
 "metadata": {
  "kernelspec": {
   "display_name": "Py27",
   "language": "python",
   "name": "py27"
  },
  "language_info": {
   "codemirror_mode": {
    "name": "ipython",
    "version": 2
   },
   "file_extension": ".py",
   "mimetype": "text/x-python",
   "name": "python",
   "nbconvert_exporter": "python",
   "pygments_lexer": "ipython2",
   "version": "2.7.18"
  }
 },
 "nbformat": 4,
 "nbformat_minor": 5
}
