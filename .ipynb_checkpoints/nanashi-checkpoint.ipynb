{
 "cells": [
  {
   "cell_type": "code",
   "execution_count": 1,
   "id": "e9ff2e48",
   "metadata": {
    "code_folding": [
     2,
     10
    ]
   },
   "outputs": [],
   "source": [
    "def conflict(state, nextColumn):\n",
    "    nextRow = rows = len(state)  \n",
    "    \"\"\"\n",
    "        nextRow代表下一个Row\n",
    "        state代表的是已经被确定的皇后\n",
    "        rows作为存储的中间变量，对循环进行控制\n",
    "    \"\"\"\n",
    "    for row in range(rows): \n",
    "        column = state[row]\n",
    "        if abs(column - nextColumn) in (0, nextRow - row):\n",
    "            \"\"\"\n",
    "                如果差值等于0，两个皇后在同一列， 则代表冲突， 返回True;\n",
    "                如果列的差值等与行的差， 两个皇后在对角线上， 则代表冲突， 返回True;\n",
    "            \"\"\"\n",
    "            return True\n",
    "    return False"
   ]
  },
  {
   "cell_type": "code",
   "execution_count": 5,
   "id": "cd4d410e",
   "metadata": {
    "code_folding": []
   },
   "outputs": [
    {
     "ename": "IndentationError",
     "evalue": "expected an indented block (<ipython-input-5-221428019184>, line 11)",
     "output_type": "error",
     "traceback": [
      "\u001b[1;36m  File \u001b[1;32m\"<ipython-input-5-221428019184>\"\u001b[1;36m, line \u001b[1;32m11\u001b[0m\n\u001b[1;33m    \"\"\"\u001b[0m\n\u001b[1;37m       \n^\u001b[0m\n\u001b[1;31mIndentationError\u001b[0m\u001b[1;31m:\u001b[0m expected an indented block\n"
     ]
    }
   ],
   "source": [
    "def queens(num, state=()):\n",
    "    \"\"\"\n",
    "        采用生成器的方式来产生每一个皇后的位置，并用递归来实现下一个皇后的位置。\n",
    "        num: 皇后的数量\n",
    "        state: 标记已经排好的每个皇后的位置\n",
    "    \"\"\"\n",
    "    for pos in range(num): \n",
    "    \"\"\"\n",
    "        皇后的数量num，你要在哪一列放置皇后\n",
    "        如果不冲突，则递归构造棋盘。\n",
    "    \"\"\"\n",
    "        if not conflict(state, pos):  \n",
    "    \"\"\"\n",
    "        判定是否冲突\n",
    "        回溯法的体现，只有当这个棋盘中没有棋子触发重复，才会进行下一个棋子的判定和存储\n",
    "        如果棋盘状态state已经等于num-1，即到达倒数第二行，而这时最后一行皇后又没冲突，直接yield，打出其位置(pos, )\n",
    "    \"\"\"\n",
    "        if len(state) == num - 1:  # state=()\n",
    "            yield (pos,)\n",
    "        else:  # (0, )\n",
    "            for result in queens(num, state + (pos,)):\n",
    "                yield (pos,) + result"
   ]
  },
  {
   "cell_type": "code",
   "execution_count": null,
   "id": "55fddb06",
   "metadata": {},
   "outputs": [],
   "source": []
  }
 ],
 "metadata": {
  "kernelspec": {
   "display_name": "Py27",
   "language": "python",
   "name": "py27"
  },
  "language_info": {
   "codemirror_mode": {
    "name": "ipython",
    "version": 2
   },
   "file_extension": ".py",
   "mimetype": "text/x-python",
   "name": "python",
   "nbconvert_exporter": "python",
   "pygments_lexer": "ipython2",
   "version": "2.7.18"
  },
  "toc": {
   "base_numbering": 1,
   "nav_menu": {},
   "number_sections": true,
   "sideBar": true,
   "skip_h1_title": false,
   "title_cell": "Table of Contents",
   "title_sidebar": "Contents",
   "toc_cell": false,
   "toc_position": {},
   "toc_section_display": true,
   "toc_window_display": false
  }
 },
 "nbformat": 4,
 "nbformat_minor": 5
}
